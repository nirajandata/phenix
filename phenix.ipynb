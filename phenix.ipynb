{
  "nbformat": 4,
  "nbformat_minor": 0,
  "metadata": {
    "colab": {
      "provenance": [],
      "mount_file_id": "13N09aor4TuOO-_eSlm-Zq3i3vHbnQr-t",
      "authorship_tag": "ABX9TyO0dvL1TZPb1Kv+s48W0AEH",
      "include_colab_link": true
    },
    "kernelspec": {
      "name": "python3",
      "display_name": "Python 3"
    },
    "language_info": {
      "name": "python"
    }
  },
  "cells": [
    {
      "cell_type": "markdown",
      "metadata": {
        "id": "view-in-github",
        "colab_type": "text"
      },
      "source": [
        "<a href=\"https://colab.research.google.com/github/nirajandata/phenix/blob/main/phenix.ipynb\" target=\"_parent\"><img src=\"https://colab.research.google.com/assets/colab-badge.svg\" alt=\"Open In Colab\"/></a>"
      ]
    },
    {
      "cell_type": "code",
      "execution_count": null,
      "metadata": {
        "id": "fUtOJJjgjY21"
      },
      "outputs": [],
      "source": [
        "# Written in 2023/05/12\n",
        "import torch\n",
        "import matplotlib.pyplot as plt\n",
        "import pandas as pd"
      ]
    },
    {
      "cell_type": "code",
      "source": [
        "daf=pd.read_csv(\"GOOGL.csv\")\n",
        "n=len(daf)\n",
        "tensor = torch.tensor((), dtype=torch.float64)\n",
        "device=\"cuda\" if torch.cuda.is_available() else \"cpu\"\n"
      ],
      "metadata": {
        "id": "yHimXIVcmXKA"
      },
      "execution_count": null,
      "outputs": []
    },
    {
      "cell_type": "code",
      "source": [
        "# todo: shifting closing value data to different date to make the data work mostly on recent data\n",
        "daf.head()\n",
        "\n"
      ],
      "metadata": {
        "id": "-hPIrv9ul3JT",
        "colab": {
          "base_uri": "https://localhost:8080/",
          "height": 206
        },
        "outputId": "acd20db6-2526-4429-bfcc-72a95ed72db7"
      },
      "execution_count": null,
      "outputs": [
        {
          "output_type": "execute_result",
          "data": {
            "text/plain": [
              "         Date       Open       High        Low      Close  Adj Close  \\\n",
              "0  2010-02-01  13.378378  13.408659  13.270771  13.338839  13.338839   \n",
              "1  2010-02-02  13.387387  13.387387  13.203453  13.291291  13.291291   \n",
              "2  2010-02-03  13.229980  13.566066  13.218969  13.534034  13.534034   \n",
              "3  2010-02-04  13.438438  13.463463  13.152152  13.182683  13.182683   \n",
              "4  2010-02-05  13.223223  13.350851  13.074575  13.295546  13.295546   \n",
              "\n",
              "      Volume  \n",
              "0   89941968  \n",
              "1  163684152  \n",
              "2  119844036  \n",
              "3  134972892  \n",
              "4  126113760  "
            ],
            "text/html": [
              "\n",
              "  <div id=\"df-e741cfb2-ba68-4315-a9ba-65ee37f09163\">\n",
              "    <div class=\"colab-df-container\">\n",
              "      <div>\n",
              "<style scoped>\n",
              "    .dataframe tbody tr th:only-of-type {\n",
              "        vertical-align: middle;\n",
              "    }\n",
              "\n",
              "    .dataframe tbody tr th {\n",
              "        vertical-align: top;\n",
              "    }\n",
              "\n",
              "    .dataframe thead th {\n",
              "        text-align: right;\n",
              "    }\n",
              "</style>\n",
              "<table border=\"1\" class=\"dataframe\">\n",
              "  <thead>\n",
              "    <tr style=\"text-align: right;\">\n",
              "      <th></th>\n",
              "      <th>Date</th>\n",
              "      <th>Open</th>\n",
              "      <th>High</th>\n",
              "      <th>Low</th>\n",
              "      <th>Close</th>\n",
              "      <th>Adj Close</th>\n",
              "      <th>Volume</th>\n",
              "    </tr>\n",
              "  </thead>\n",
              "  <tbody>\n",
              "    <tr>\n",
              "      <th>0</th>\n",
              "      <td>2010-02-01</td>\n",
              "      <td>13.378378</td>\n",
              "      <td>13.408659</td>\n",
              "      <td>13.270771</td>\n",
              "      <td>13.338839</td>\n",
              "      <td>13.338839</td>\n",
              "      <td>89941968</td>\n",
              "    </tr>\n",
              "    <tr>\n",
              "      <th>1</th>\n",
              "      <td>2010-02-02</td>\n",
              "      <td>13.387387</td>\n",
              "      <td>13.387387</td>\n",
              "      <td>13.203453</td>\n",
              "      <td>13.291291</td>\n",
              "      <td>13.291291</td>\n",
              "      <td>163684152</td>\n",
              "    </tr>\n",
              "    <tr>\n",
              "      <th>2</th>\n",
              "      <td>2010-02-03</td>\n",
              "      <td>13.229980</td>\n",
              "      <td>13.566066</td>\n",
              "      <td>13.218969</td>\n",
              "      <td>13.534034</td>\n",
              "      <td>13.534034</td>\n",
              "      <td>119844036</td>\n",
              "    </tr>\n",
              "    <tr>\n",
              "      <th>3</th>\n",
              "      <td>2010-02-04</td>\n",
              "      <td>13.438438</td>\n",
              "      <td>13.463463</td>\n",
              "      <td>13.152152</td>\n",
              "      <td>13.182683</td>\n",
              "      <td>13.182683</td>\n",
              "      <td>134972892</td>\n",
              "    </tr>\n",
              "    <tr>\n",
              "      <th>4</th>\n",
              "      <td>2010-02-05</td>\n",
              "      <td>13.223223</td>\n",
              "      <td>13.350851</td>\n",
              "      <td>13.074575</td>\n",
              "      <td>13.295546</td>\n",
              "      <td>13.295546</td>\n",
              "      <td>126113760</td>\n",
              "    </tr>\n",
              "  </tbody>\n",
              "</table>\n",
              "</div>\n",
              "      <button class=\"colab-df-convert\" onclick=\"convertToInteractive('df-e741cfb2-ba68-4315-a9ba-65ee37f09163')\"\n",
              "              title=\"Convert this dataframe to an interactive table.\"\n",
              "              style=\"display:none;\">\n",
              "        \n",
              "  <svg xmlns=\"http://www.w3.org/2000/svg\" height=\"24px\"viewBox=\"0 0 24 24\"\n",
              "       width=\"24px\">\n",
              "    <path d=\"M0 0h24v24H0V0z\" fill=\"none\"/>\n",
              "    <path d=\"M18.56 5.44l.94 2.06.94-2.06 2.06-.94-2.06-.94-.94-2.06-.94 2.06-2.06.94zm-11 1L8.5 8.5l.94-2.06 2.06-.94-2.06-.94L8.5 2.5l-.94 2.06-2.06.94zm10 10l.94 2.06.94-2.06 2.06-.94-2.06-.94-.94-2.06-.94 2.06-2.06.94z\"/><path d=\"M17.41 7.96l-1.37-1.37c-.4-.4-.92-.59-1.43-.59-.52 0-1.04.2-1.43.59L10.3 9.45l-7.72 7.72c-.78.78-.78 2.05 0 2.83L4 21.41c.39.39.9.59 1.41.59.51 0 1.02-.2 1.41-.59l7.78-7.78 2.81-2.81c.8-.78.8-2.07 0-2.86zM5.41 20L4 18.59l7.72-7.72 1.47 1.35L5.41 20z\"/>\n",
              "  </svg>\n",
              "      </button>\n",
              "      \n",
              "  <style>\n",
              "    .colab-df-container {\n",
              "      display:flex;\n",
              "      flex-wrap:wrap;\n",
              "      gap: 12px;\n",
              "    }\n",
              "\n",
              "    .colab-df-convert {\n",
              "      background-color: #E8F0FE;\n",
              "      border: none;\n",
              "      border-radius: 50%;\n",
              "      cursor: pointer;\n",
              "      display: none;\n",
              "      fill: #1967D2;\n",
              "      height: 32px;\n",
              "      padding: 0 0 0 0;\n",
              "      width: 32px;\n",
              "    }\n",
              "\n",
              "    .colab-df-convert:hover {\n",
              "      background-color: #E2EBFA;\n",
              "      box-shadow: 0px 1px 2px rgba(60, 64, 67, 0.3), 0px 1px 3px 1px rgba(60, 64, 67, 0.15);\n",
              "      fill: #174EA6;\n",
              "    }\n",
              "\n",
              "    [theme=dark] .colab-df-convert {\n",
              "      background-color: #3B4455;\n",
              "      fill: #D2E3FC;\n",
              "    }\n",
              "\n",
              "    [theme=dark] .colab-df-convert:hover {\n",
              "      background-color: #434B5C;\n",
              "      box-shadow: 0px 1px 3px 1px rgba(0, 0, 0, 0.15);\n",
              "      filter: drop-shadow(0px 1px 2px rgba(0, 0, 0, 0.3));\n",
              "      fill: #FFFFFF;\n",
              "    }\n",
              "  </style>\n",
              "\n",
              "      <script>\n",
              "        const buttonEl =\n",
              "          document.querySelector('#df-e741cfb2-ba68-4315-a9ba-65ee37f09163 button.colab-df-convert');\n",
              "        buttonEl.style.display =\n",
              "          google.colab.kernel.accessAllowed ? 'block' : 'none';\n",
              "\n",
              "        async function convertToInteractive(key) {\n",
              "          const element = document.querySelector('#df-e741cfb2-ba68-4315-a9ba-65ee37f09163');\n",
              "          const dataTable =\n",
              "            await google.colab.kernel.invokeFunction('convertToInteractive',\n",
              "                                                     [key], {});\n",
              "          if (!dataTable) return;\n",
              "\n",
              "          const docLinkHtml = 'Like what you see? Visit the ' +\n",
              "            '<a target=\"_blank\" href=https://colab.research.google.com/notebooks/data_table.ipynb>data table notebook</a>'\n",
              "            + ' to learn more about interactive tables.';\n",
              "          element.innerHTML = '';\n",
              "          dataTable['output_type'] = 'display_data';\n",
              "          await google.colab.output.renderOutput(dataTable, element);\n",
              "          const docLink = document.createElement('div');\n",
              "          docLink.innerHTML = docLinkHtml;\n",
              "          element.appendChild(docLink);\n",
              "        }\n",
              "      </script>\n",
              "    </div>\n",
              "  </div>\n",
              "  "
            ]
          },
          "metadata": {},
          "execution_count": 94
        }
      ]
    },
    {
      "cell_type": "code",
      "source": [
        "plt.title(\"Stock data\")\n",
        "plt.xlabel(\"time\")\n",
        "plt.ylabel(\"Value\")\n",
        "plt.plot(daf[\"Close\"])"
      ],
      "metadata": {
        "colab": {
          "base_uri": "https://localhost:8080/",
          "height": 489
        },
        "id": "KfoZqBu4PZhz",
        "outputId": "a91df5de-c63e-49c3-ca61-5e77bad351aa"
      },
      "execution_count": null,
      "outputs": [
        {
          "output_type": "execute_result",
          "data": {
            "text/plain": [
              "[<matplotlib.lines.Line2D at 0x7fd78e2ea1d0>]"
            ]
          },
          "metadata": {},
          "execution_count": 95
        },
        {
          "output_type": "display_data",
          "data": {
            "text/plain": [
              "<Figure size 640x480 with 1 Axes>"
            ],
            "image/png": "[encoded data removed]"
          },
          "metadata": {}
        }
      ]
    },
    {
      "cell_type": "code",
      "source": [
        "def normalize(df):\n",
        "  mx=np.max(df)\n",
        "  a=[]\n",
        "#  a=torch.zeros(n)\n",
        "\n",
        "  for i in range(n):\n",
        "    a.append(df[i]/mx)\n",
        "  return a\n",
        "\n",
        "\n",
        "def recurrence_level(df,depth):\n",
        "  X=[]\n",
        "  Y=[]\n",
        "  for i in range(len(df)-depth):\n",
        "    change=i+depth\n",
        "    x=df[i:change]\n",
        "    y=df[i+1:change+1]\n",
        "    X.append(x)\n",
        "    Y.append(y)\n",
        "\n",
        "  return torch.tensor(X), torch.tensor(Y)\n"
      ],
      "metadata": {
        "id": "-xDXe3QFQ1tp"
      },
      "execution_count": null,
      "outputs": []
    },
    {
      "cell_type": "code",
      "source": [
        "daf.head()\n",
        "\n",
        "df= daf[[\"Close\"]].values.astype('float32')\n",
        "\n",
        "norm=np.linalg.norm(df)\n",
        "df=df/np.linalg.norm(df)\n",
        "\n",
        "sz_part=int(.6*n)\n",
        "train_data,test_data=df[:sz_part],df[sz_part:]\n"
      ],
      "metadata": {
        "id": "23CAvO92R5QT"
      },
      "execution_count": null,
      "outputs": []
    },
    {
      "cell_type": "code",
      "source": [
        "print(df)"
      ],
      "metadata": {
        "colab": {
          "base_uri": "https://localhost:8080/"
        },
        "id": "06ACs8zpW-lj",
        "outputId": "7795c7b8-69fc-457d-95db-85e1428766e7"
      },
      "execution_count": null,
      "outputs": [
        {
          "output_type": "stream",
          "name": "stdout",
          "text": [
            "[[0.00367632]\n",
            " [0.00366322]\n",
            " [0.00373012]\n",
            " ...\n",
            " [0.03403236]\n",
            " [0.0343438 ]\n",
            " [0.03408473]]\n"
          ]
        }
      ]
    },
    {
      "cell_type": "code",
      "source": [
        "class Model(torch.nn.Module):\n",
        "  def __init__(self,inp_dim, sz_hidden, num_class, sz_layers):\n",
        "\n",
        "    super(Model,self).__init__()\n",
        "\n",
        "    self.sz_hidden=sz_hidden\n",
        "    self.sz_layers=sz_layers\n",
        "    self.Fr=torch.nn.LSTM(inp_dim,sz_hidden,sz_layers,batch_first=True)\n",
        "    self.Last=torch.nn.Linear(sz_hidden,num_class)\n",
        "\n",
        "\n",
        "  def forward(self,X):\n",
        "\n",
        "    hidden_state=torch.zeros(self.sz_layers, X.size(0), self.sz_hidden)\n",
        "    node_st=torch.zeros(self.sz_layers, X.size(0), self.sz_hidden)\n",
        "\n",
        "    prediction, _=self.Fr(X, (hidden_state, node_st))\n",
        "    prediction =self.Last(prediction[:, -1, :])\n",
        "\n",
        "    return prediction\n"
      ],
      "metadata": {
        "id": "91DvRBnFPi_N"
      },
      "execution_count": null,
      "outputs": []
    },
    {
      "cell_type": "code",
      "source": [
        "depth=4\n",
        "\n",
        "x_train,y_train=recurrence_level(train_data,depth)\n",
        "x_test,y_test=recurrence_level(test_data,depth)\n",
        "\n",
        "print(x_train.shape)\n",
        "data_loader = torch.utils.data.DataLoader(torch.utils.data.TensorDataset(x_train,y_train), shuffle=True, batch_size=4)\n"
      ],
      "metadata": {
        "colab": {
          "base_uri": "https://localhost:8080/"
        },
        "id": "26xHRxE0YkS9",
        "outputId": "8502b5a5-33a2-4507-8846-9a0d16cd9cff"
      },
      "execution_count": null,
      "outputs": [
        {
          "output_type": "stream",
          "name": "stdout",
          "text": [
            "torch.Size([2009, 4, 1])\n"
          ]
        }
      ]
    },
    {
      "cell_type": "code",
      "source": [
        "\n",
        "print(train_data)"
      ],
      "metadata": {
        "colab": {
          "base_uri": "https://localhost:8080/"
        },
        "id": "bjoXhu25UxWO",
        "outputId": "76344bf9-8a71-41e9-c0d4-0f88aa15bcfb"
      },
      "execution_count": null,
      "outputs": [
        {
          "output_type": "stream",
          "name": "stdout",
          "text": [
            "0        13.338839\n",
            "1        13.291291\n",
            "2        13.534034\n",
            "3        13.182683\n",
            "4        13.295546\n",
            "           ...    \n",
            "3014    133.307495\n",
            "3015    130.351501\n",
            "3016    130.804001\n",
            "3017    126.934998\n",
            "3018    129.233002\n",
            "Name: Close, Length: 3019, dtype: float64\n"
          ]
        }
      ]
    },
    {
      "cell_type": "code",
      "source": [
        "#hyperparams\n",
        "inp_dim=1\n",
        "sz_hidden=30\n",
        "num_class=1\n",
        "sz_layers=2\n",
        "loss_function=torch.nn.MSELoss()\n",
        "epoch =100\n",
        "lr=0.003\n",
        "optim=torch.optim.Adam(model.parameters(), lr)\n",
        "model=Model(inp_dim, sz_hidden, num_class, sz_layers)\n",
        "\n",
        "\n",
        "for i in range(epoch):\n",
        "  model.train()\n",
        "  for x,y in data_loader:\n",
        "\n",
        "    y_hat=model(x)\n",
        "    loss=loss_function(y_hat,y)\n",
        "    optim.zero_grad\n",
        "    loss.backward()\n",
        "    optim.step()\n",
        "\n",
        "  if(epoch&16):\n",
        "    model.eval()\n",
        "    with torch.no_grad():\n",
        "      Y_hat=model(x_test)\n",
        "      test_loss=loss_function(Y_hat,y_test)\n",
        "      print(f\"testing loss: {test_loss} \\n\")\n",
        "  print(f\"Step: {i}: training loss: {loss} \\n\")"
      ],
      "metadata": {
        "id": "W0szylhWjPI0",
        "colab": {
          "base_uri": "https://localhost:8080/"
        },
        "outputId": "50a1d25e-4130-48cd-c2ff-7fd794211aec"
      },
      "execution_count": null,
      "outputs": [
        {
          "output_type": "stream",
          "name": "stderr",
          "text": [
            "/usr/local/lib/python3.10/dist-packages/torch/nn/modules/loss.py:536: UserWarning: Using a target size (torch.Size([4, 4, 1])) that is different to the input size (torch.Size([4, 1])). This will likely lead to incorrect results due to broadcasting. Please ensure they have the same size.\n",
            "  return F.mse_loss(input, target, reduction=self.reduction)\n",
            "/usr/local/lib/python3.10/dist-packages/torch/nn/modules/loss.py:536: UserWarning: Using a target size (torch.Size([1, 4, 1])) that is different to the input size (torch.Size([1, 1])). This will likely lead to incorrect results due to broadcasting. Please ensure they have the same size.\n",
            "  return F.mse_loss(input, target, reduction=self.reduction)\n"
          ]
        },
        {
          "output_type": "stream",
          "name": "stdout",
          "text": [
            "Step: 0: training loss: 0.007452796678990126 \n",
            "\n",
            "Step: 1: training loss: 0.006271048448979855 \n",
            "\n",
            "Step: 2: training loss: 0.006845118012279272 \n",
            "\n",
            "Step: 3: training loss: 0.00676932604983449 \n",
            "\n",
            "Step: 4: training loss: 0.00741846626624465 \n",
            "\n",
            "Step: 5: training loss: 0.00685947434976697 \n",
            "\n",
            "Step: 6: training loss: 0.0062004681676626205 \n",
            "\n",
            "Step: 7: training loss: 0.006874685641378164 \n",
            "\n",
            "Step: 8: training loss: 0.007004375569522381 \n",
            "\n",
            "Step: 9: training loss: 0.007405866403132677 \n",
            "\n",
            "Step: 10: training loss: 0.00787576474249363 \n",
            "\n",
            "Step: 11: training loss: 0.007246930152177811 \n",
            "\n",
            "Step: 12: training loss: 0.007170960307121277 \n",
            "\n",
            "Step: 13: training loss: 0.00660921074450016 \n",
            "\n",
            "Step: 14: training loss: 0.006809074431657791 \n",
            "\n",
            "Step: 15: training loss: 0.006801784969866276 \n",
            "\n",
            "Step: 16: training loss: 0.006603817455470562 \n",
            "\n",
            "Step: 17: training loss: 0.006276674568653107 \n",
            "\n",
            "Step: 18: training loss: 0.006866966374218464 \n",
            "\n",
            "Step: 19: training loss: 0.00779058039188385 \n",
            "\n",
            "Step: 20: training loss: 0.0062991296872496605 \n",
            "\n",
            "Step: 21: training loss: 0.007306627929210663 \n",
            "\n",
            "Step: 22: training loss: 0.007333938963711262 \n",
            "\n",
            "Step: 23: training loss: 0.006376244593411684 \n",
            "\n",
            "Step: 24: training loss: 0.006897200830280781 \n",
            "\n",
            "Step: 25: training loss: 0.006158648058772087 \n",
            "\n",
            "Step: 26: training loss: 0.006213128566741943 \n",
            "\n",
            "Step: 27: training loss: 0.00708019221201539 \n",
            "\n",
            "Step: 28: training loss: 0.006840994115918875 \n",
            "\n",
            "Step: 29: training loss: 0.0062985606491565704 \n",
            "\n",
            "Step: 30: training loss: 0.006867167539894581 \n",
            "\n",
            "Step: 31: training loss: 0.007546544075012207 \n",
            "\n",
            "Step: 32: training loss: 0.006939860060811043 \n",
            "\n",
            "Step: 33: training loss: 0.006937263999134302 \n",
            "\n",
            "Step: 34: training loss: 0.006279210094362497 \n",
            "\n",
            "Step: 35: training loss: 0.006911407690495253 \n",
            "\n",
            "Step: 36: training loss: 0.007369941100478172 \n",
            "\n",
            "Step: 37: training loss: 0.006926655303686857 \n",
            "\n",
            "Step: 38: training loss: 0.007938966155052185 \n",
            "\n",
            "Step: 39: training loss: 0.006168038584291935 \n",
            "\n",
            "Step: 40: training loss: 0.006308094598352909 \n",
            "\n",
            "Step: 41: training loss: 0.006244574673473835 \n",
            "\n",
            "Step: 42: training loss: 0.006302648223936558 \n",
            "\n",
            "Step: 43: training loss: 0.007271459326148033 \n",
            "\n",
            "Step: 44: training loss: 0.006303937174379826 \n",
            "\n",
            "Step: 45: training loss: 0.006833397783339024 \n",
            "\n",
            "Step: 46: training loss: 0.006212365813553333 \n",
            "\n",
            "Step: 47: training loss: 0.0066174473613500595 \n",
            "\n",
            "Step: 48: training loss: 0.0064415596425533295 \n",
            "\n",
            "Step: 49: training loss: 0.006835172884166241 \n",
            "\n",
            "Step: 50: training loss: 0.006857888773083687 \n",
            "\n",
            "Step: 51: training loss: 0.006326382048428059 \n",
            "\n",
            "Step: 52: training loss: 0.006251954473555088 \n",
            "\n",
            "Step: 53: training loss: 0.007583146914839745 \n",
            "\n",
            "Step: 54: training loss: 0.0063253892585635185 \n",
            "\n",
            "Step: 55: training loss: 0.008009366691112518 \n",
            "\n",
            "Step: 56: training loss: 0.00749613344669342 \n",
            "\n",
            "Step: 57: training loss: 0.006316693499684334 \n",
            "\n",
            "Step: 58: training loss: 0.006308206357061863 \n",
            "\n",
            "Step: 59: training loss: 0.007756562903523445 \n",
            "\n",
            "Step: 60: training loss: 0.006256820634007454 \n",
            "\n",
            "Step: 61: training loss: 0.006374692544341087 \n",
            "\n",
            "Step: 62: training loss: 0.0066011566668748856 \n",
            "\n",
            "Step: 63: training loss: 0.007462879177182913 \n",
            "\n",
            "Step: 64: training loss: 0.0077775632962584496 \n",
            "\n",
            "Step: 65: training loss: 0.006280045956373215 \n",
            "\n",
            "Step: 66: training loss: 0.006384864915162325 \n",
            "\n",
            "Step: 67: training loss: 0.006874638143926859 \n",
            "\n",
            "Step: 68: training loss: 0.006908513605594635 \n",
            "\n",
            "Step: 69: training loss: 0.007353806868195534 \n",
            "\n",
            "Step: 70: training loss: 0.006220875307917595 \n",
            "\n",
            "Step: 71: training loss: 0.006134578492492437 \n",
            "\n",
            "Step: 72: training loss: 0.00753572816029191 \n",
            "\n",
            "Step: 73: training loss: 0.006886248476803303 \n",
            "\n",
            "Step: 74: training loss: 0.006855682469904423 \n",
            "\n",
            "Step: 75: training loss: 0.006152483634650707 \n",
            "\n",
            "Step: 76: training loss: 0.0069593824446201324 \n",
            "\n",
            "Step: 77: training loss: 0.00775713287293911 \n",
            "\n",
            "Step: 78: training loss: 0.006858621258288622 \n",
            "\n",
            "Step: 79: training loss: 0.006313864607363939 \n",
            "\n",
            "Step: 80: training loss: 0.006401412654668093 \n",
            "\n",
            "Step: 81: training loss: 0.0074722352437675 \n",
            "\n",
            "Step: 82: training loss: 0.006296409294009209 \n",
            "\n",
            "Step: 83: training loss: 0.006418365053832531 \n",
            "\n",
            "Step: 84: training loss: 0.006842419970780611 \n",
            "\n",
            "Step: 85: training loss: 0.006945469416677952 \n",
            "\n",
            "Step: 86: training loss: 0.006360782776027918 \n",
            "\n",
            "Step: 87: training loss: 0.008063293062150478 \n",
            "\n",
            "Step: 88: training loss: 0.006604155525565147 \n",
            "\n",
            "Step: 89: training loss: 0.006857460364699364 \n",
            "\n",
            "Step: 90: training loss: 0.007377372123301029 \n",
            "\n",
            "Step: 91: training loss: 0.006930883973836899 \n",
            "\n",
            "Step: 92: training loss: 0.006296645849943161 \n",
            "\n",
            "Step: 93: training loss: 0.006187701132148504 \n",
            "\n",
            "Step: 94: training loss: 0.007435707841068506 \n",
            "\n",
            "Step: 95: training loss: 0.0068457042798399925 \n",
            "\n",
            "Step: 96: training loss: 0.006276674568653107 \n",
            "\n",
            "Step: 97: training loss: 0.006869497708976269 \n",
            "\n",
            "Step: 98: training loss: 0.006616528145968914 \n",
            "\n",
            "Step: 99: training loss: 0.0077497088350355625 \n",
            "\n"
          ]
        }
      ]
    },
    {
      "cell_type": "code",
      "source": [
        "#add risk factor\n",
        "r=0.9\n",
        "\n"
      ],
      "metadata": {
        "id": "BWvdOcnsetzx"
      },
      "execution_count": null,
      "outputs": []
    },
    {
      "cell_type": "code",
      "source": [
        "model.eval()\n",
        "predict = model(x_train)\n",
        "\n",
        "predict = predict.data.numpy()\n",
        "prev = np.ones_like(df) * np.nan\n",
        "after=np.copy(prev)\n",
        "\n",
        "\n",
        "#data_predict/=np.linalg.norm(df)\n",
        "\n",
        "#ax.invert_yaxis()\n",
        "\n",
        "y_data = y_data*norm\n",
        "prev[depth:len(predict)+depth]=predict*norm\n",
        "valid=model(x_test)\n",
        "valid=valid.data.numpy()\n",
        "after[len(predict)+depth:len(predict)+len(valid)+depth]=valid*norm\n",
        "\n",
        "print(predict[0],predict[1000])\n",
        "\n",
        "#predict=np.flip(predict)\n",
        "plt.plot(prev)\n",
        "plt.plot(after)\n",
        "plt.suptitle('Time-Series Prediction')\n",
        "plt.show()\n",
        "\n"
      ],
      "metadata": {
        "colab": {
          "base_uri": "https://localhost:8080/",
          "height": 495
        },
        "id": "Ud_JCVuBRPPs",
        "outputId": "57c4f31b-d264-4277-fc5c-1ed9828d948b"
      },
      "execution_count": null,
      "outputs": [
        {
          "output_type": "stream",
          "name": "stdout",
          "text": [
            "[-0.07518331] [-0.07518155]\n"
          ]
        },
        {
          "output_type": "display_data",
          "data": {
            "text/plain": [
              "<Figure size 640x480 with 1 Axes>"
            ],
            "image/png": "[encoded data removed]"
          },
          "metadata": {}
        }
      ]
    },
    {
      "cell_type": "code",
      "source": [
        "plot.plot(after)"
      ],
      "metadata": {
        "id": "0BwtwSsIFreh"
      },
      "execution_count": null,
      "outputs": []
    },
    {
      "cell_type": "code",
      "source": [
        "model_scripted = torch.jit.script(model) # Export to TorchScript\n",
        "model_scripted.save('model_scripted.pt') # Save"
      ],
      "metadata": {
        "id": "8ThJxAB2lfyy"
      },
      "execution_count": null,
      "outputs": []
    },
    {
      "cell_type": "code",
      "source": [
        "plt.plot(df)"
      ],
      "metadata": {
        "colab": {
          "base_uri": "https://localhost:8080/",
          "height": 447
        },
        "id": "7BskRIK2BlY1",
        "outputId": "211abd7d-7ce3-465d-ea5f-6629a20246a4"
      },
      "execution_count": null,
      "outputs": [
        {
          "output_type": "execute_result",
          "data": {
            "text/plain": [
              "[<matplotlib.lines.Line2D at 0x7fd7a6094640>]"
            ]
          },
          "metadata": {},
          "execution_count": 112
        },
        {
          "output_type": "display_data",
          "data": {
            "text/plain": [
              "<Figure size 640x480 with 1 Axes>"
            ],
            "image/png": "[encoded data removed]"
          },
          "metadata": {}
        }
      ]
    },
    {
      "cell_type": "code",
      "source": [],
      "metadata": {
        "id": "avNS7UsIDcIx"
      },
      "execution_count": null,
      "outputs": []
    }
  ]
}